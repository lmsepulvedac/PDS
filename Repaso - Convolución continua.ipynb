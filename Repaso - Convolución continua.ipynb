{
 "cells": [
  {
   "cell_type": "markdown",
   "metadata": {},
   "source": [
    "# Sistemas de tiempo continuo LTI\n",
    "***\n",
    "\n",
    "Recordemos que en general, los sistemas se pueden clasificar como:\n",
    "\n",
    "1.Causal y no causal:\n",
    "\n",
    ">Un sistema es causal si su salida en un tiempo determinado solo depende de la entrada en el mismo instante de tiempo o en valor pasados:\n",
    "\n",
    ">Si: $$y(t) = T[x(t)],$$\n",
    "\n",
    ">donde $T[.]$ es el operador del sistema, entonces:\n",
    "\n",
    "$$y(t) = T[x(t+t_0)]$$ \n",
    "\n",
    ">es un sistema no causal\n",
    "\n",
    "2.Con memoria y sin memoria: \n",
    "\n",
    ">Un sistema se demonia sin memoria si su salida en un tiempo determinado depende de la entrada en ese  mismo instante de tiempo\n",
    "\n",
    "3.Aditivo y no aditivo:\n",
    "\n",
    ">Un sistema aditivo cumple que:\n",
    "\n",
    "$$T[x_1(t)+x_2(t)]=T[x_1(t)+x_2(t)]=y_1(t)+y_2(t)$$\n",
    "\n",
    "4.Homogéneo y no homogéneo:\n",
    "\n",
    ">Para un sistema homogéneo se tiene que:\n",
    "\n",
    "$$T[cx(t)]=cT[x(t)]=cy(t),$$\n",
    "\n",
    ">donde $c$ es una constante\n",
    "\n",
    "5.Lineal y no lineal:\n",
    "\n",
    ">Para que un sistema sea lineal se debe cumplir que sea **homogéneo y aditivo**, esto es, que cumpla el principio de superposición.\n",
    "\n",
    "$$T[\\alpha x_1(t)+ \\beta x_2(t)] = \\alpha y_1(t)+ \\beta y_2(t),$$\n",
    "\n",
    ">con $\\alpha$ y $\\beta$ constantes.\n",
    "\n",
    "6.Invariante y no invariante:\n",
    "\n",
    ">En un sistema invariante en el tiempo un corrimiento en la entrada corresponde a un corrimiento en la salida.\n",
    "\n",
    "$$T[x(t-\\tau)]=y(t-\\tau)$$\n",
    "\n",
    "Un sistema LTI será por tanto un sistema lineal e invariante en el tiempo"
   ]
  },
  {
   "cell_type": "markdown",
   "metadata": {},
   "source": [
    "## Respuesta al impulso de un sistema LTI de tiempo continuo\n",
    "\n",
    "La respuesta al impulso LTI de tiempo continuo corresnde a la la salida de un sistema LTI cuando su entrada es un impulso, i.e. $x(t) = \\delta$. En este orden, diremos que $y(t)=h(t)=T[x(t)]=T[\\delta(t)]$.\n",
    "\n",
    "En el caso de una entrada arbitraria diferente a un impulso, i.e. cualquier $x(t)$ que se pueda describir como\n",
    "$x(t)=\\int_{-\\infty}^{\\infty}x(\\tau)\\delta(t-\\tau)d\\tau$ por propiedades del $\\delta(t)$, se tendra que:\n",
    "\n",
    "$$y(t) = T[x(t)]=T\\left[\\int_{-\\infty}^{\\infty}x(\\tau)\\delta(t-\\tau)d\\tau\\right]$$\n",
    "\n",
    "Si el sistema es lineal, entonces:\n",
    "\n",
    "$$y(t) = T\\left[\\int_{-\\infty}^{\\infty}x(\\tau)\\delta(t-\\tau)d\\tau\\right] = \\int_{-\\infty}^{\\infty}T[x(\\tau)\\delta(t-\\tau)]d\\tau$$\n",
    "\n",
    "Si es invariante en el tiempo:\n",
    "\n",
    "$$y(t) = \\int_{-\\infty}^{\\infty}T[x(\\tau)\\delta(t-\\tau)]d\\tau =  \\int_{-\\infty}^{\\infty}x(\\tau)T[\\delta(t-\\tau)]d\\tau$$\n",
    "\n",
    "La expresión anterior será entonces:\n",
    "\n",
    "$$y(t) = \\int_{-\\infty}^{\\infty}x(\\tau)T[\\delta(t-\\tau)]d\\tau = \\int_{-\\infty}^{\\infty}x(\\tau)h(t-\\tau)d\\tau,$$\n",
    "\n",
    "que es la definición de convolución continua. Por ello se puede establecer, que la respuesta al impulso $h(t)$ caracteriza un sistema LTI, y que dada esta función y cualquier entrada $x(t)$, se puede encontrar la salida del sistema."
   ]
  }
 ],
 "metadata": {
  "kernelspec": {
   "display_name": "Python 3",
   "language": "python",
   "name": "python3"
  },
  "language_info": {
   "codemirror_mode": {
    "name": "ipython",
    "version": 3
   },
   "file_extension": ".py",
   "mimetype": "text/x-python",
   "name": "python",
   "nbconvert_exporter": "python",
   "pygments_lexer": "ipython3",
   "version": "3.6.1"
  }
 },
 "nbformat": 4,
 "nbformat_minor": 2
}
